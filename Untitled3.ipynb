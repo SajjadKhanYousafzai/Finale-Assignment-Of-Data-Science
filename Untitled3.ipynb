{
 "cells": [
  {
   "cell_type": "markdown",
   "id": "2f537c3e-0784-455e-bcae-c5358b1a0c79",
   "metadata": {
    "tags": []
   },
   "source": [
    "# Exercise Notebook Title\n"
   ]
  },
  {
   "cell_type": "markdown",
   "id": "f5b1e077-2389-4ceb-ab42-b0b814c013aa",
   "metadata": {},
   "source": [
    "## Introduction\n",
    "\n",
    "Welcome to this exercise notebook! In this notebook, we will explore various data science concepts and practice coding examples. We'll cover topics like data science languages, libraries, basic arithmetic operations, and more. Let's get started!\n"
   ]
  },
  {
   "cell_type": "markdown",
   "id": "bbcb651c-e9cf-46d3-be87-3df46cf663ec",
   "metadata": {},
   "source": [
    "## Data Science Languages\n",
    "- Python\n",
    "- R\n",
    "- Julia\n"
   ]
  },
  {
   "cell_type": "markdown",
   "id": "9a3eb3b0-f23c-4e62-be04-f46dc455daf8",
   "metadata": {},
   "source": [
    "## Data Science Libraries\n",
    "\n",
    "Here are some commonly used data science libraries in Python:\n",
    "\n",
    "- **NumPy:** A fundamental package for numerical computations in Python.\n",
    "- **Pandas:** Provides data structures and data analysis tools.\n",
    "- **Matplotlib:** A versatile plotting library for creating visualizations.\n",
    "- **Seaborn:** Built on top of Matplotlib, it provides a higher-level interface for statistical graphics.\n",
    "- **Scikit-learn:** A machine learning library with tools for classification, regression, clustering, and more.\n",
    "- **TensorFlow:** An open-source machine learning framework developed by Google.\n",
    "- **PyTorch:** A deep learning framework that emphasizes flexibility and dynamic computation.\n",
    "\n",
    "These libraries play a crucial role in various data manipulation, analysis, visualization, and machine learning tasks.\n"
   ]
  },
  {
   "cell_type": "markdown",
   "id": "3e24e2e6-746c-4242-803e-f09df486c5fb",
   "metadata": {},
   "source": [
    "## Data Science Tools\n",
    "\n",
    "| Tool         | Description                                          |\n",
    "|--------------|------------------------------------------------------|\n",
    "| Jupyter      | Interactive notebooks for code and visualization    |\n",
    "| Git          | Version control and collaboration                   |\n",
    "| Docker       | Containerization for reproducible environments       |\n",
    "| SQL          | Database querying and management                    |\n",
    "| Tableau      | Data visualization and reporting                    |\n",
    "| R            | Statistical computing and graphics                   |\n",
    "| Python       | General-purpose programming language                 |\n",
    "| Pandas       | Data manipulation and analysis library              |\n",
    "| NumPy        | Numerical computing library                          |\n",
    "| Matplotlib   | Data visualization library                          |\n",
    "| Scikit-learn | Machine learning library                            |\n",
    "| TensorFlow   | Machine learning and deep learning library          |\n",
    "| PyTorch      | Deep learning library                               |\n"
   ]
  },
  {
   "cell_type": "code",
   "execution_count": 3,
   "id": "0c8780c2-4bf7-49cd-88a8-fc6d897bd53e",
   "metadata": {
    "tags": []
   },
   "outputs": [
    {
     "data": {
      "text/plain": [
       "9"
      ]
     },
     "execution_count": 3,
     "metadata": {},
     "output_type": "execute_result"
    }
   ],
   "source": [
    "# Arithmetic operations\n",
    "code = compile(\"5 + 4\", \"<string>\", \"eval\")\n",
    "eval(code)\n",
    "# Result: 9"
   ]
  },
  {
   "cell_type": "code",
   "execution_count": 4,
   "id": "4a346779-6335-4eed-8079-99a0077d4fdf",
   "metadata": {
    "tags": []
   },
   "outputs": [
    {
     "data": {
      "text/plain": [
       "17"
      ]
     },
     "execution_count": 4,
     "metadata": {},
     "output_type": "execute_result"
    }
   ],
   "source": [
    "(3*4)+5\n",
    "# Result: 17"
   ]
  },
  {
   "cell_type": "code",
   "execution_count": 5,
   "id": "0a115b3f-d6e4-4a99-9c26-0ca8adf5df06",
   "metadata": {
    "tags": []
   },
   "outputs": [
    {
     "name": "stdout",
     "output_type": "stream",
     "text": [
      "0 days, 3.3333333333333335 hours, 0 mins. \n"
     ]
    }
   ],
   "source": [
    "days = 0\n",
    "hours = 0\n",
    "mins = 0\n",
    "\n",
    "time = 200\n",
    "#days = time / 1440\n",
    "leftover_minutes = time % 1440\n",
    "hours = leftover_minutes / 60\n",
    "#mins = time - (days*1440) - (hours*60)\n",
    "print(str(days) + \" days, \" + str(hours) + \" hours, \" + str(mins) +  \" mins. \")\n",
    "\n",
    "# Result: 3.3333333333333335 hours"
   ]
  },
  {
   "cell_type": "markdown",
   "id": "17555b72-22b7-456e-857e-26694c664233",
   "metadata": {},
   "source": [
    "Below the introduction cell created in Exercise 3, insert a new markdown cell to list the objectives that this notebook covered (i.e. some of the key takeaways from the course). In this new cell start with an introductory line titled: Objectives: in bold font. Then using an unordered list (bullets) indicate 3 to 5 items covered in this notebook, such as List popular languages for Data Science.\n",
    "\n"
   ]
  },
  {
   "cell_type": "code",
   "execution_count": null,
   "id": "65f14baf-1282-4162-81aa-1f4f444ce7f2",
   "metadata": {},
   "outputs": [],
   "source": []
  }
 ],
 "metadata": {
  "kernelspec": {
   "display_name": "Python 3 (ipykernel)",
   "language": "python",
   "name": "python3"
  },
  "language_info": {
   "codemirror_mode": {
    "name": "ipython",
    "version": 3
   },
   "file_extension": ".py",
   "mimetype": "text/x-python",
   "name": "python",
   "nbconvert_exporter": "python",
   "pygments_lexer": "ipython3",
   "version": "3.11.3"
  }
 },
 "nbformat": 4,
 "nbformat_minor": 5
}
